{
 "cells": [
  {
   "cell_type": "markdown",
   "metadata": {},
   "source": [
    "## Assignment"
   ]
  },
  {
   "cell_type": "markdown",
   "metadata": {},
   "source": [
    "### Number of Task :: 3\n",
    "####  1. A list of all cricket players who have ever played ODI matches\n",
    "####  2. Runs they have made every year in their career\n",
    "####  3. Cummulify the scores by year for each player\n",
    "\n",
    "\n"
   ]
  },
  {
   "cell_type": "markdown",
   "metadata": {},
   "source": [
    "##### **Note :: All the data are fetched from http://howstat.com"
   ]
  },
  {
   "cell_type": "markdown",
   "metadata": {},
   "source": [
    " "
   ]
  },
  {
   "cell_type": "markdown",
   "metadata": {},
   "source": [
    "### TASK 1"
   ]
  },
  {
   "cell_type": "markdown",
   "metadata": {},
   "source": [
    "#### Importing all the Library"
   ]
  },
  {
   "cell_type": "code",
   "execution_count": null,
   "metadata": {},
   "outputs": [],
   "source": [
    "import requests\n",
    "from bs4 import BeautifulSoup\n",
    "import csv\n",
    "import re\n",
    "import pandas as pd\n",
    "import numpy as np"
   ]
  },
  {
   "cell_type": "markdown",
   "metadata": {},
   "source": [
    "<p> The below cell extracts all the playerid and in the next segment while fetching the runs we will fetch the names, as the present url from which the playerid is fetched does not contain the full name. <br> Function \"find_odi_player\" is defined which takes an href tag and checks whether that particular link starts with  \"PlayerOverview_ODI.asp?PlayerID=\" if its True that means that particular player has played atleast one ODI <br> soup.find_all(href=find_odi_player) returns list of tags which is then passed through the lambda function to extract the playerid and store it in List_Of_Player<p>"
   ]
  },
  {
   "cell_type": "code",
   "execution_count": null,
   "metadata": {},
   "outputs": [],
   "source": [
    "List_Of_Player = []\n",
    "for group in range(65,67):\n",
    "    url = f'http://howstat.com/cricket/Statistics/Players/PlayerList.asp?Country=ALL&Group={chr(group)}'\n",
    "    source = requests.get(url).text\n",
    "    soup = BeautifulSoup(source,'lxml')\n",
    "    def find_odi_player(href):\n",
    "        return True if href and href.startswith('PlayerOverview_ODI.asp?PlayerID=') else False\n",
    "    List_Of_Player += list(map(lambda x: x['href'].split('=')[1] , soup.find_all(href=find_odi_player))) "
   ]
  },
  {
   "cell_type": "markdown",
   "metadata": {},
   "source": [
    "### Task 2"
   ]
  },
  {
   "cell_type": "markdown",
   "metadata": {},
   "source": [
    "<p> The below code defines \"d\" which is of type dictionary and is going to store data for each player, the keys are Name and years from (1971-2019). Assume this as a matrix because this will be converted into dataframe in the end, I could have taken directly a matrix but for my convenience I did with dict()\n",
    "<p>"
   ]
  },
  {
   "cell_type": "code",
   "execution_count": null,
   "metadata": {},
   "outputs": [],
   "source": [
    "XLen = len(List_Of_Player)\n",
    "d = dict()\n",
    "d['Name'] = [None]*XLen\n",
    "d['Country'] = [None]*XLen\n",
    "for i in range(1971,2020):\n",
    "    d[str(i)] = [0]*XLen"
   ]
  },
  {
   "cell_type": "code",
   "execution_count": null,
   "metadata": {},
   "outputs": [],
   "source": [
    "df"
   ]
  },
  {
   "cell_type": "markdown",
   "metadata": {},
   "source": [
    "<p>\n",
    "The for-loop takes up each playerid from \"List_Of_Player\" and the appends it, to get the final url and using request and bs4 the the HTML is parsed.<br>\n",
    "The HTML contains details about every innings played by particular player which is fetched into \"tables\" using appropriate filter.<br>\n",
    "name : The Full Name of the Player<br>\n",
    "country : Country of the player<br>\n",
    "Then the entire table is traversed and the year of that inning and run scored is extracted, the edge-case were runs are appended with asterisk is also handled.<br>\n",
    "Lastly run is added \"d[year][playerid] += run\", which adds to previously scored runs of that playerid in that year.\n",
    "<p>\n",
    "<h6>**Note : I did not run the entire List_Of_Player(2547) together instead I used batches of 300 playerid<h6>"
   ]
  },
  {
   "cell_type": "code",
   "execution_count": null,
   "metadata": {},
   "outputs": [],
   "source": [
    "for playerid in range(0,XLen):\n",
    "    if playerid%10 == 0:\n",
    "        print(playerid)\n",
    "    url = f'http://howstat.com/cricket/Statistics/Players/PlayerProgressBat_ODI.asp?PlayerID={List_Of_Player[playerid]}'\n",
    "    source = requests.get(url).text\n",
    "    soup = BeautifulSoup(source,'lxml')\n",
    "    tables = soup.find_all('tr',bgcolor=re.compile('^#'))\n",
    "    name = soup.find('td',class_='Banner2').text.strip().split(\"(\")[0]\n",
    "    country = re.findall(r\"[\\w']+\", soup.find('td',class_='Banner2').text.strip())[-4]\n",
    "    for row in tables:\n",
    "        year = row.find('a').text.split(\"/\")[-1]\n",
    "        d['Name'][playerid] = name\n",
    "        d['Country'][playerid] = country\n",
    "        run = 0\n",
    "        try:\n",
    "            if row.find('td',class_=\"AsteriskSpace\"):\n",
    "                k = row.find('td',class_=\"AsteriskSpace\").text.strip()\n",
    "                if k != '-':\n",
    "                    run = int(k)\n",
    "            else:\n",
    "                run = int(row.find('td',align=\"right\").text.strip()[:-1])\n",
    "        except:\n",
    "            run = 0\n",
    "        d[year][playerid] += run"
   ]
  },
  {
   "cell_type": "markdown",
   "metadata": {},
   "source": [
    "#### Converting dictionary into dataframe"
   ]
  },
  {
   "cell_type": "code",
   "execution_count": null,
   "metadata": {},
   "outputs": [],
   "source": [
    "df = pd.DataFrame(d) "
   ]
  },
  {
   "cell_type": "markdown",
   "metadata": {},
   "source": [
    "#### Storing the dataframe into file"
   ]
  },
  {
   "cell_type": "code",
   "execution_count": null,
   "metadata": {},
   "outputs": [],
   "source": [
    "df.to_csv('player.csv', sep=',', encoding='utf-8')"
   ]
  },
  {
   "cell_type": "markdown",
   "metadata": {},
   "source": [
    "### Task 3"
   ]
  },
  {
   "cell_type": "markdown",
   "metadata": {},
   "source": [
    "<p> Final task was to calculate the cumulative score, so I ran loop from 1972 and added current column data\n",
    "with previous column<p>"
   ]
  },
  {
   "cell_type": "code",
   "execution_count": null,
   "metadata": {},
   "outputs": [],
   "source": [
    "for i in range(1972,2020):\n",
    "    df[str(i)] += df[str(i-1)]"
   ]
  }
 ],
 "metadata": {
  "kernelspec": {
   "display_name": "Python 3",
   "language": "python",
   "name": "python3"
  },
  "language_info": {
   "codemirror_mode": {
    "name": "ipython",
    "version": 3
   },
   "file_extension": ".py",
   "mimetype": "text/x-python",
   "name": "python",
   "nbconvert_exporter": "python",
   "pygments_lexer": "ipython3",
   "version": "3.6.8"
  },
  "varInspector": {
   "cols": {
    "lenName": 16,
    "lenType": 16,
    "lenVar": 40
   },
   "kernels_config": {
    "python": {
     "delete_cmd_postfix": "",
     "delete_cmd_prefix": "del ",
     "library": "var_list.py",
     "varRefreshCmd": "print(var_dic_list())"
    },
    "r": {
     "delete_cmd_postfix": ") ",
     "delete_cmd_prefix": "rm(",
     "library": "var_list.r",
     "varRefreshCmd": "cat(var_dic_list()) "
    }
   },
   "types_to_exclude": [
    "module",
    "function",
    "builtin_function_or_method",
    "instance",
    "_Feature"
   ],
   "window_display": false
  }
 },
 "nbformat": 4,
 "nbformat_minor": 2
}
